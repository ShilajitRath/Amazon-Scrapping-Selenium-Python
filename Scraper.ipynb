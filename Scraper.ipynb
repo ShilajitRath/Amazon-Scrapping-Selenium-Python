{
 "cells": [
  {
   "cell_type": "code",
   "execution_count": 1,
   "metadata": {},
   "outputs": [],
   "source": [
    "from selenium import webdriver\n",
    "from selenium.webdriver.chrome.options import Options\n",
    "from selenium.webdriver.chrome.service import Service\n",
    "from selenium.webdriver.common.by import By\n",
    "from webdriver_manager.chrome import ChromeDriverManager\n",
    "from selenium.webdriver.support.ui import WebDriverWait\n",
    "from selenium.webdriver.support import expected_conditions as EC\n",
    "\n",
    "import pandas as pd"
   ]
  },
  {
   "cell_type": "code",
   "execution_count": 2,
   "metadata": {},
   "outputs": [],
   "source": [
    "# smae same \n",
    "\n",
    "chrome_options = Options()\n",
    "chrome_options.add_experimental_option(\"detach\", True)\n",
    "driver = webdriver.Chrome(service=Service(ChromeDriverManager().install()) , options=chrome_options)\n",
    "\n",
    "driver.maximize_window()\n",
    "wait = WebDriverWait(driver, 5)\n",
    "driver.implicitly_wait(5)\n"
   ]
  },
  {
   "cell_type": "code",
   "execution_count": 3,
   "metadata": {},
   "outputs": [],
   "source": [
    "# Creating lists \n",
    "\n",
    "link = \"\"\n",
    "product_name = []\n",
    "product_price = []\n",
    "product_ratings = []\n",
    "product_ratings_num = []\n",
    "product_link = []"
   ]
  },
  {
   "cell_type": "code",
   "execution_count": 6,
   "metadata": {},
   "outputs": [],
   "source": [
    "# for loop to iterate over each pages                         \n",
    "for i in range(1,20):\n",
    "    driver.get(f'https://www.amazon.com/s?i=movies-tv&rh=n%3A2649512011&fs=true&page={i}&qid=1726454955&ref=sr_pg_3')\n",
    "    items = wait.until(EC.presence_of_all_elements_located((By.XPATH, '//div[contains(@class, \"s-result-item s-asin\")]')))\n",
    "    \n",
    "    for item in items:\n",
    "        # Get the name of movie\n",
    "        name = item.find_element(By.XPATH, './/span[@class=\"a-size-medium a-color-base a-text-normal\"]')\n",
    "        product_name.append(name.text)\n",
    "        # print(product_name)\n",
    "\n",
    "        # Get the price\n",
    "        whole_price = item.find_elements(By.XPATH, './/span[@class=\"a-price-whole\"]')\n",
    "        fraction_price = item.find_elements(By.XPATH, './/span[@class=\"a-price-fraction\"]')\n",
    "\n",
    "        if whole_price != [] and fraction_price != []:\n",
    "            price = '.'.join([whole_price[0].text, fraction_price[0].text])\n",
    "        else:\n",
    "            price = 0\n",
    "        product_price.append(price)\n",
    "        # print(product_price)\n",
    "\n",
    "\n",
    "        # find ratings box\n",
    "        ratings_box = item.find_elements(By.XPATH, './/div[@class=\"a-row a-size-small\"]/span')\n",
    "\n",
    "        # find ratings and ratings_num\n",
    "        if ratings_box != []:\n",
    "            ratings = ratings_box[0].get_attribute('aria-label')\n",
    "        else:\n",
    "            ratings = 0\n",
    "\n",
    "        product_ratings.append(ratings)\n",
    "        # print(product_ratings)\n",
    "\n",
    "        # Get the link\n",
    "        link = item.find_element(By.XPATH, './/a[@class=\"a-link-normal s-underline-text s-underline-link-text s-link-style a-text-normal\"]').get_attribute(\"href\")\n",
    "        product_link.append(link)\n",
    "        # print(product_link)\n",
    "\n",
    "driver.quit()"
   ]
  },
  {
   "cell_type": "code",
   "execution_count": 7,
   "metadata": {},
   "outputs": [],
   "source": [
    "import os\n",
    "\n",
    "# Create the directory if it doesn't exist\n",
    "os.makedirs(\"Data\", exist_ok=True)\n",
    "\n",
    "# Store the data into a dataframe and save it as a CSV file\n",
    "dict_df = {\"Name of movie\": product_name, \"Price ( in $ )\": product_price, \"Rating stars\": product_ratings, \"Link to the movie\": product_link}\n",
    "df = pd.DataFrame(dict_df)\n",
    "df.to_csv(\"Data/Movie.csv\", index=False)"
   ]
  }
 ],
 "metadata": {
  "kernelspec": {
   "display_name": "Python 3",
   "language": "python",
   "name": "python3"
  },
  "language_info": {
   "codemirror_mode": {
    "name": "ipython",
    "version": 3
   },
   "file_extension": ".py",
   "mimetype": "text/x-python",
   "name": "python",
   "nbconvert_exporter": "python",
   "pygments_lexer": "ipython3",
   "version": "3.11.6"
  }
 },
 "nbformat": 4,
 "nbformat_minor": 2
}
